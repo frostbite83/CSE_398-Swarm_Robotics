{
 "cells": [
  {
   "cell_type": "code",
   "execution_count": 1,
   "metadata": {},
   "outputs": [],
   "source": [
    "import numpy as np\n",
    "import math"
   ]
  },
  {
   "cell_type": "code",
   "execution_count": 2,
   "metadata": {},
   "outputs": [
    {
     "data": {
      "text/plain": [
       "0.1947225095808105"
      ]
     },
     "execution_count": 2,
     "metadata": {},
     "output_type": "execute_result"
    }
   ],
   "source": [
    "n= 3\n",
    "np.random.seed(1)\n",
    "alpha = 0.5\n",
    "T= 1000\n",
    "m = np.random.uniform(0, 3, n)\n",
    "sig = np.random.uniform(2,2,n)\n",
    "def bandit(k):\n",
    "    return np.random.normal(m[k], sig[k])\n",
    "bandit(0)\n",
    "\n",
    "    \n",
    "    "
   ]
  },
  {
   "cell_type": "code",
   "execution_count": 3,
   "metadata": {},
   "outputs": [
    {
     "name": "stdout",
     "output_type": "stream",
     "text": [
      "1124.8605610992163\n"
     ]
    }
   ],
   "source": [
    "\n",
    "np.random.seed(0)\n",
    "total_reward = 0\n",
    "for t in range(T):\n",
    "    #random policy\n",
    "    k = np.random.choice(range(n))\n",
    "    reward = bandit(k)\n",
    "    #print(k, reward)\n",
    "    total_reward += reward\n",
    "print(total_reward)"
   ]
  },
  {
   "cell_type": "code",
   "execution_count": 4,
   "metadata": {},
   "outputs": [],
   "source": [
    "# epsilon greedy when it wieghts over entire history for constant average value\n",
    "def epsilon_greedy(epsilon):\n",
    "    weights = np.zeros(n)\n",
    "    times = np.zeros(n)\n",
    "    total_reward = 0\n",
    "    rewards = np.zeros(T)\n",
    "\n",
    "    for t in range(T):\n",
    "        #random policy\n",
    "        rand = np.random.random()\n",
    "        if rand < epsilon:\n",
    "            k = np.random.choice(range(n))\n",
    "        else:\n",
    "            k = np.argmax(weights)\n",
    "        times[k] += 1\n",
    "        reward = bandit(k)\n",
    "        weights[k] += 1/times[k]*(reward-weights[k])\n",
    "        #print(k, reward)\n",
    "        total_reward += reward\n",
    "        rewards[t] = total_reward/(t+1)\n",
    "    return (total_reward, rewards)\n",
    "\n",
    "#print(weights/times"
   ]
  },
  {
   "cell_type": "code",
   "execution_count": 5,
   "metadata": {},
   "outputs": [
    {
     "name": "stdout",
     "output_type": "stream",
     "text": [
      "1945.6365001473418\n"
     ]
    },
    {
     "name": "stderr",
     "output_type": "stream",
     "text": [
      "/opt/tljh/user/lib/python3.7/site-packages/ipykernel_launcher.py:21: RuntimeWarning: divide by zero encountered in log\n",
      "/opt/tljh/user/lib/python3.7/site-packages/ipykernel_launcher.py:21: RuntimeWarning: invalid value encountered in sqrt\n",
      "/opt/tljh/user/lib/python3.7/site-packages/ipykernel_launcher.py:21: RuntimeWarning: invalid value encountered in true_divide\n",
      "/opt/tljh/user/lib/python3.7/site-packages/ipykernel_launcher.py:21: RuntimeWarning: divide by zero encountered in true_divide\n"
     ]
    }
   ],
   "source": [
    "# epsilon greedy when uses upper bound selection for its greedy action\n",
    "# I used the method that remembered all past values for this, \n",
    "#   since the greedy action selection also seems to depend on how many times the action was selected\n",
    "#   the textbook talks about how it may struggle with non-stationary problems, \n",
    "#   so I compared it in a situation where it may be used\n",
    "c = 1\n",
    "def epsilon_greedy_upper_bound(epsilon):\n",
    "    graphs = []\n",
    "    weights = np.zeros(n) \n",
    "    times = np.zeros(n)\n",
    "    total_reward = 0\n",
    "    rewards = np.zeros(T)\n",
    "    \n",
    "    \n",
    "\n",
    "    for t in range(T):\n",
    "        #random policy\n",
    "        rand = np.random.random()\n",
    "        if rand < epsilon:\n",
    "            k = np.random.choice(range(n))\n",
    "        else:\n",
    "            k = np.argmax(weights + c*np.sqrt(np.log(t)/times))\n",
    "        times[k] += 1\n",
    "        reward = bandit(k)\n",
    "        weights[k] += 1/times[k]*(reward-weights[k])\n",
    "        #print(k, reward)\n",
    "        total_reward += reward\n",
    "        rewards[t] = total_reward/(t+1)\n",
    "        graphs.append(weights.copy())\n",
    "    return (total_reward, rewards, graphs)\n",
    "(p4, p4r, graphs) = epsilon_greedy_upper_bound(.1)\n",
    "print(p4)\n",
    "#print(weights/times"
   ]
  },
  {
   "cell_type": "code",
   "execution_count": 6,
   "metadata": {},
   "outputs": [],
   "source": [
    "# original version used in class when it remembers all past instances and averages them equally as well\n",
    "def epsilon_greedy_old(epsilon):\n",
    "    weights = np.zeros(n)\n",
    "    times = np.zeros(n)\n",
    "    total_reward = 0\n",
    "    rewards = np.zeros(T)\n",
    "\n",
    "    for t in range(T):\n",
    "        #random policy\n",
    "        rand = np.random.random()\n",
    "        if rand < epsilon:\n",
    "            k = np.random.choice(range(n))\n",
    "        else:\n",
    "            k = np.argmax(weights/times)\n",
    "        times[k] += 1\n",
    "        reward = bandit(k)\n",
    "        weights[k] += reward\n",
    "        #print(k, reward)\n",
    "        total_reward += reward\n",
    "        rewards[t] = total_reward/(t+1)\n",
    "    return (total_reward, rewards)\n",
    "\n",
    "#print(weights/times"
   ]
  },
  {
   "cell_type": "code",
   "execution_count": 7,
   "metadata": {},
   "outputs": [
    {
     "name": "stdout",
     "output_type": "stream",
     "text": [
      "1822.5969224511778\n",
      "1823.1660144939597\n",
      "1942.3638925686173\n"
     ]
    },
    {
     "name": "stderr",
     "output_type": "stream",
     "text": [
      "/opt/tljh/user/lib/python3.7/site-packages/ipykernel_launcher.py:14: RuntimeWarning: invalid value encountered in true_divide\n",
      "  \n",
      "/opt/tljh/user/lib/python3.7/site-packages/ipykernel_launcher.py:21: RuntimeWarning: divide by zero encountered in log\n",
      "/opt/tljh/user/lib/python3.7/site-packages/ipykernel_launcher.py:21: RuntimeWarning: invalid value encountered in sqrt\n",
      "/opt/tljh/user/lib/python3.7/site-packages/ipykernel_launcher.py:21: RuntimeWarning: invalid value encountered in true_divide\n",
      "/opt/tljh/user/lib/python3.7/site-packages/ipykernel_launcher.py:21: RuntimeWarning: divide by zero encountered in true_divide\n"
     ]
    }
   ],
   "source": [
    "randseed = 3\n",
    "np.random.seed(randseed)\n",
    "(p1, p1r) = epsilon_greedy(0.1)\n",
    "np.random.seed(randseed)\n",
    "(p2, p2r) = epsilon_greedy_old(0.1)\n",
    "np.random.seed(randseed)\n",
    "(p3, p3r, graphs) = epsilon_greedy_upper_bound(.1)\n",
    "\n",
    "print(p1)\n",
    "print(p2)\n",
    "print(p3)"
   ]
  },
  {
   "cell_type": "code",
   "execution_count": 8,
   "metadata": {},
   "outputs": [
    {
     "data": {
      "image/png": "[encoded data removed]",
      "text/plain": [
       "<Figure size 432x288 with 1 Axes>"
      ]
     },
     "metadata": {
      "needs_background": "light"
     },
     "output_type": "display_data"
    }
   ],
   "source": [
    "import matplotlib.pyplot as plt\n",
    "plt.plot(p1r, color=\"green\")# recent memory\n",
    "plt.plot(p2r, color=\"blue\") # full memory\n",
    "plt.plot(p3r, color=\"red\")  # upper bound\n",
    "plt.ylabel('average reward')\n",
    "plt.show()\n"
   ]
  },
  {
   "cell_type": "code",
   "execution_count": 9,
   "metadata": {},
   "outputs": [
    {
     "name": "stdout",
     "output_type": "stream",
     "text": [
      "(3, 1000)\n"
     ]
    },
    {
     "data": {
      "image/png": "[encoded data removed]",
      "text/plain": [
       "<Figure size 432x288 with 1 Axes>"
      ]
     },
     "metadata": {
      "needs_background": "light"
     },
     "output_type": "display_data"
    }
   ],
   "source": [
    "#shows the choices the algorithm made in the graph relative to the actual values of the actions.\n",
    "for x in range(n):\n",
    "    pl = np.zeros(T)\n",
    "    for y in range(T):\n",
    "        pl[y] = m[x]\n",
    "    plt.plot(pl)\n",
    "\n",
    "graarr = np.array(graphs).T\n",
    "print(np.shape(graarr))\n",
    "for x in graarr:\n",
    "    plt.plot(x)\n",
    "plt.show()"
   ]
  },
  {
   "cell_type": "code",
   "execution_count": null,
   "metadata": {},
   "outputs": [],
   "source": []
  }
 ],
 "metadata": {
  "kernelspec": {
   "display_name": "Python 3",
   "language": "python",
   "name": "python3"
  },
  "language_info": {
   "codemirror_mode": {
    "name": "ipython",
    "version": 3
   },
   "file_extension": ".py",
   "mimetype": "text/x-python",
   "name": "python",
   "nbconvert_exporter": "python",
   "pygments_lexer": "ipython3",
   "version": "3.7.6"
  }
 },
 "nbformat": 4,
 "nbformat_minor": 4
}
